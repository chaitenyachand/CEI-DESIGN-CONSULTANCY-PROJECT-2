{
 "cells": [
  {
   "cell_type": "markdown",
   "metadata": {},
   "source": [
    "# Importing Necessary Modules"
   ]
  },
  {
   "cell_type": "code",
   "execution_count": 4,
   "metadata": {},
   "outputs": [],
   "source": [
    "import requests\n",
    "from datetime import datetime, timedelta\n",
    "import pandas as pd\n",
    "import json"
   ]
  },
  {
   "cell_type": "markdown",
   "metadata": {},
   "source": [
    "# Define the Date range"
   ]
  },
  {
   "cell_type": "code",
   "execution_count": 5,
   "metadata": {},
   "outputs": [],
   "source": [
    "start_date = datetime(2024, 5, 1)\n",
    "end_date = datetime(2024, 6, 30)"
   ]
  },
  {
   "cell_type": "markdown",
   "metadata": {},
   "source": [
    "# Set the base URLS and Headers for the request"
   ]
  },
  {
   "cell_type": "code",
   "execution_count": 6,
   "metadata": {},
   "outputs": [],
   "source": [
    "base_url = \"https://vegetablemarketprice.com/api/dataapi/market/delhi/daywisedata?date=\"\n",
    "headers = {\n",
    "    \"accept\": \"*/*\",\n",
    "    \"accept-language\": \"en-GB,en-US;q=0.9,en;q=0.8\",\n",
    "    \"sec-ch-ua\": \"\\\"Not/A)Brand\\\";v=\\\"8\\\", \\\"Chromium\\\";v=\\\"126\\\", \\\"Google Chrome\\\";v=\\\"126\\\"\",\n",
    "    \"sec-ch-ua-mobile\": \"?0\",\n",
    "    \"sec-ch-ua-platform\": \"\\\"Windows\\\"\",\n",
    "    \"sec-fetch-dest\": \"empty\",\n",
    "    \"sec-fetch-mode\": \"cors\",\n",
    "    \"sec-fetch-site\": \"same-origin\",\n",
    "    \"cookie\": \"JSESSIONID=B996C5FEEF5F71FAA879510F6CE9AFDC; _ga=GA1.1.535926437.1720420786; __gads=ID=7673b94fb107ab94:T=1720420985:RT=1720420985:S=ALNI_MZaMdMCI5z42qCo_9s6_iB2ypAYDQ; __gpi=UID=00000e86b68b21eb:T=1720420985:RT=1720420985:S=ALNI_MZfzGgSlxFImJ_lyzPSJj_A7ChXTA; __eoi=ID=8326e63330e6f562:T=1720420985:RT=1720420985:S=AA-AfjYcXGdhgxLcbO91Dln4iXv6; _ga_2RYZG7Y4NC=GS1.1.1720420786.1.1.1720420843.0.0.0; FCNEC=%5B%5B%22AKsRol9HaOJf02fJNprg3yCx_nxuucr1ZviVEst1uKkpGfGV0e-Ep06fngjTP8pPbM4Rl3TaZDRHvttV3pb1N92aNVqOV_ZGDAmWjA4iBlf9YkajjHt1wxvyrUbzlNI7hqQYbwK4OwszjCySNujnGYskYUZ2C4NpOw%3D%3D%22%5D%5D\",\n",
    "    \"Referer\": \"https://vegetablemarketprice.com/market/delhi/today\",\n",
    "    \"Referrer-Policy\": \"strict-origin-when-cross-origin\"\n",
    "}"
   ]
  },
  {
   "cell_type": "markdown",
   "metadata": {},
   "source": [
    "# Initialize the list to store the data "
   ]
  },
  {
   "cell_type": "code",
   "execution_count": 7,
   "metadata": {},
   "outputs": [],
   "source": [
    "js_arr = []\n"
   ]
  },
  {
   "cell_type": "markdown",
   "metadata": {},
   "source": [
    "## Function to generate a list of dates between start_date and end_date"
   ]
  },
  {
   "cell_type": "code",
   "execution_count": 8,
   "metadata": {},
   "outputs": [],
   "source": [
    "def daterange(start_date, end_date):\n",
    "    for n in range(int((end_date - start_date).days) + 1):\n",
    "        yield start_date + timedelta(n)"
   ]
  },
  {
   "cell_type": "markdown",
   "metadata": {},
   "source": [
    "# Loop through each data in the range and scrape the data"
   ]
  },
  {
   "cell_type": "code",
   "execution_count": 9,
   "metadata": {},
   "outputs": [],
   "source": [
    "for single_date in daterange(start_date, end_date):\n",
    "    date = single_date.strftime(\"%Y-%m-%d\")\n",
    "    url = base_url + date\n",
    "\n",
    "    response = requests.get(url, headers=headers)\n",
    "    \n",
    "    if response.status_code == 200:\n",
    "        js_data = json.loads(response.text)\n",
    "        for api in js_data.get(\"data\", []):\n",
    "            veg_name = str(api[\"vegetablename\"])\n",
    "            wholesale_price = str(api[\"price\"])\n",
    "            retail_price = str(api[\"retailprice\"])\n",
    "            unit = str(api[\"units\"])\n",
    "            mall_price = str(api[\"shopingmallprice\"])\n",
    "            vegetable_image = api.get(\"image\", \"\")\n",
    "\n",
    "            new_js = {\n",
    "                \"Date\": date,\n",
    "                \"State Name\": \"New Delhi\",\n",
    "                \"Vegetable Name\": veg_name,\n",
    "                \"Wholesale Price\": wholesale_price,\n",
    "                \"Retail Price\": retail_price,\n",
    "                \"Shopping Mall Price\": mall_price,\n",
    "                \"Units\": unit,\n",
    "                \"Vegetable Image\": vegetable_image\n",
    "            }\n",
    "            js_arr.append(new_js)\n",
    "    else:\n",
    "        print(f\"Failed to retrieve data for {date}\")"
   ]
  },
  {
   "cell_type": "markdown",
   "metadata": {},
   "source": [
    "# Convert the data to a DataFrame"
   ]
  },
  {
   "cell_type": "code",
   "execution_count": 10,
   "metadata": {},
   "outputs": [],
   "source": [
    "df = pd.DataFrame(js_arr)"
   ]
  },
  {
   "cell_type": "markdown",
   "metadata": {},
   "source": [
    "# Save the DataFrame to a CSV file"
   ]
  },
  {
   "cell_type": "code",
   "execution_count": 11,
   "metadata": {},
   "outputs": [
    {
     "name": "stdout",
     "output_type": "stream",
     "text": [
      "Data saved to vegetable_prices_new_delhi.csv\n"
     ]
    }
   ],
   "source": [
    "output_csv_path = 'vegetable_prices_new_delhi.csv'\n",
    "df.to_csv(output_csv_path, index=False)\n",
    "\n",
    "print(f\"Data saved to {output_csv_path}\")"
   ]
  }
 ],
 "metadata": {
  "kernelspec": {
   "display_name": "Python 3",
   "language": "python",
   "name": "python3"
  },
  "language_info": {
   "codemirror_mode": {
    "name": "ipython",
    "version": 3
   },
   "file_extension": ".py",
   "mimetype": "text/x-python",
   "name": "python",
   "nbconvert_exporter": "python",
   "pygments_lexer": "ipython3",
   "version": "3.11.7"
  }
 },
 "nbformat": 4,
 "nbformat_minor": 2
}
